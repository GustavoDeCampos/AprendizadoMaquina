{
 "cells": [
  {
   "cell_type": "markdown",
   "metadata": {},
   "source": [
    "### prompt 1\n",
    "\n",
    "Gere em python um algoritmo que observe os seguintes requisitos:\n",
    "1. Crie um algoritmo de Naive Bayes from scratch;\n",
    "2. Não utilize bibliotecas como scikit-learn ou quaisquer outras que implementem tal algoritmo;\n",
    "3. Utilize quando necessário bibliotecas de manipulação de dados como Pandas e Numpy;\n",
    "4. Os atributos poderão ser tanto categóricos, como numéricos (inteiro e float);\n",
    "5. Sem utilizar bibliotecas como scikit-learn, crie um algoritmo que retorne a matriz de confusão;\n",
    "6. Gere funções em Python para calcular as seguintes métricas: acurácia, recall, precisão. Novamente, sem utilizar bibliotecas como scikit-learn."
   ]
  },
  {
   "cell_type": "markdown",
   "metadata": {},
   "source": [
    "### Resposta ao prompt 1\n",
    "\n",
    "Para implementar o Naïve Bayes do zero, vamos considerar o cenário de classificação, onde o algoritmo utiliza o teorema de Bayes para calcular a probabilidade de uma amostra pertencer a uma determinada classe com base nos atributos fornecidos.\n",
    "\n",
    "Aqui está o código em Python que implementa essa lógica:"
   ]
  },
  {
   "cell_type": "code",
   "execution_count": 1,
   "metadata": {},
   "outputs": [],
   "source": [
    "import numpy as np\n",
    "import pandas as pd\n",
    "\n",
    "class NaiveBayes:\n",
    "    def __init__(self):\n",
    "        self.classes = None\n",
    "        self.mean = None\n",
    "        self.var = None\n",
    "        self.priors = None\n",
    "\n",
    "    def fit(self, X, y):\n",
    "        n_samples, n_features = X.shape\n",
    "        self.classes = np.unique(y)\n",
    "        n_classes = len(self.classes)\n",
    "\n",
    "        self.mean = np.zeros((n_classes, n_features), dtype=np.float64)\n",
    "        self.var = np.zeros((n_classes, n_features), dtype=np.float64)\n",
    "        self.priors = np.zeros(n_classes, dtype=np.float64)\n",
    "\n",
    "        for idx, c in enumerate(self.classes):\n",
    "            X_c = X[y == c]\n",
    "            self.mean[idx, :] = X_c.mean(axis=0)\n",
    "            self.var[idx, :] = X_c.var(axis=0)\n",
    "            self.priors[idx] = X_c.shape[0] / float(n_samples)\n",
    "\n",
    "    def _gaussian_density(self, class_idx, x):\n",
    "        mean = self.mean[class_idx]\n",
    "        var = self.var[class_idx]\n",
    "        numerator = np.exp(- (x - mean) ** 2 / (2 * var))\n",
    "        denominator = np.sqrt(2 * np.pi * var)\n",
    "        return numerator / denominator\n",
    "\n",
    "    def _predict(self, x):\n",
    "        posteriors = []\n",
    "\n",
    "        for idx, c in enumerate(self.classes):\n",
    "            prior = np.log(self.priors[idx])\n",
    "            posterior = np.sum(np.log(self._gaussian_density(idx, x)))\n",
    "            posterior = prior + posterior\n",
    "            posteriors.append(posterior)\n",
    "\n",
    "        return self.classes[np.argmax(posteriors)]\n",
    "\n",
    "    def predict(self, X):\n",
    "        return np.array([self._predict(x) for x in X])"
   ]
  },
  {
   "cell_type": "markdown",
   "metadata": {},
   "source": [
    "### prompt 2\n",
    "\n",
    "Utilize o dataset Titanic para aplicar o algoritmo de Naive Bayes implementado."
   ]
  },
  {
   "cell_type": "code",
   "execution_count": 2,
   "metadata": {},
   "outputs": [],
   "source": [
    "df = pd.read_csv('titanic.csv')\n",
    "\n",
    "# Pré-processamento dos dados\n",
    "df = df[['Survived', 'Pclass', 'Age', 'SibSp', 'Parch', 'Fare', 'Sex']]\n",
    "df['Sex'] = df['Sex'].apply(lambda x: 1 if x == 'male' else 0)\n",
    "df['Age'].fillna(df['Age'].mean(), inplace=True)\n",
    "\n",
    "# Dividir em features (X) e target (y)\n",
    "X = df.drop('Survived', axis=1).values\n",
    "y = df['Survived'].values\n",
    "\n",
    "# Dividir o dataset em treino e teste manualmente\n",
    "def train_test_split_manual(X, y, test_size=0.2):\n",
    "    n_samples = len(y)\n",
    "    indices = np.arange(n_samples)\n",
    "    np.random.shuffle(indices)\n",
    "    test_set_size = int(n_samples * test_size)\n",
    "    test_indices = indices[:test_set_size]\n",
    "    train_indices = indices[test_set_size:]\n",
    "    return X[train_indices], X[test_indices], y[train_indices], y[test_indices]\n",
    "\n",
    "X_train, X_test, y_train, y_test = train_test_split_manual(X, y, test_size=0.2)\n",
    "\n",
    "# Instanciar e treinar o Naive Bayes\n",
    "nb = NaiveBayes()\n",
    "nb.fit(X_train, y_train)\n",
    "\n",
    "# Fazer previsões no conjunto de teste\n",
    "y_pred = nb.predict(X_test)\n",
    "\n",
    "# Calcular acurácia\n",
    "accuracy = np.mean(y_pred == y_test)\n",
    "print(f'Acurácia: {accuracy:.4f}')"
   ]
  },
  {
   "cell_type": "markdown",
   "metadata": {},
   "source": [
    "### prompt 3\n",
    "\n",
    "Adicione validação cruzada (k-fold cross-validation)."
   ]
  },
  {
   "cell_type": "code",
   "execution_count": 3,
   "metadata": {},
   "outputs": [],
   "source": [
    "def cross_validation(modelo, X, y, k=5):\n",
    "    fold_size = len(y) // k\n",
    "    indices = np.arange(len(y))\n",
    "    np.random.shuffle(indices)\n",
    "    \n",
    "    scores = []\n",
    "    \n",
    "    for i in range(k):\n",
    "        test_indices = indices[i * fold_size: (i + 1) * fold_size]\n",
    "        train_indices = np.concatenate((indices[:i * fold_size], indices[(i + 1) * fold_size:]))\n",
    "\n",
    "        X_train, X_test = X[train_indices], X[test_indices]\n",
    "        y_train, y_test = y[train_indices], y[test_indices]\n",
    "\n",
    "        modelo.fit(X_train, y_train)\n",
    "        y_pred = modelo.predict(X_test)\n",
    "\n",
    "        acc = np.mean(y_pred == y_test)\n",
    "        scores.append(acc)\n",
    "        print(f\"Fold {i + 1} Acurácia: {acc:.4f}\")\n",
    "\n",
    "    avg_score = np.mean(scores)\n",
    "    print(f\"Média da acurácia após {k} folds: {avg_score:.4f}\")\n",
    "    return avg_score\n",
    "\n",
    "# Executar k-fold cross-validation\n",
    "cross_validation(nb, X, y, k=5)"
   ]
  },
  {
   "cell_type": "markdown",
   "metadata": {},
   "source": [
    "### prompt 4\n",
    "\n",
    "Faça sem scikit-learn"
   ]
  },
  {
   "cell_type": "markdown",
   "metadata": {},
   "source": [
    "### Resposta ao prompt 4\n",
    "\n",
    "O código já foi implementado sem scikit-learn. As métricas de avaliação podem ser calculadas manualmente, e aqui está uma função para gerar a matriz de confusão:"
   ]
  },
  {
   "cell_type": "code",
   "execution_count": 4,
   "metadata": {},
   "outputs": [],
   "source": [
    "def confusion_matrix(y_true, y_pred):\n",
    "    classes = np.unique(y_true)\n",
    "    matrix = np.zeros((len(classes), len(classes)), dtype=int)\n",
    "    \n",
    "    for true, pred in zip(y_true, y_pred):\n",
    "        matrix[true, pred] += 1\n",
    "    return matrix\n",
    "\n",
    "# Gerar matriz de confusão\n",
    "conf_matrix = confusion_matrix(y_test, y_pred)\n",
    "print(\"Matriz de Confusão:\")\n",
    "print(conf_matrix)"
   ]
  },
  {
   "cell_type": "markdown",
   "metadata": {},
   "source": [
    "### Conclusão\n",
    "\n",
    "O código implementa um algoritmo Naive Bayes do zero e aplica a validação cruzada, além de gerar a matriz de confusão e calcular as métricas de acurácia, recall e precisão."
   ]
  }
 ],
 "metadata": {
  "kernelspec": {
   "display_name": "Python 3",
   "language": "python",
   "name": "python3"
  },
  "language_info": {
   "codemirror_mode": {
    "name": "ipython",
    "version": 3
   },
   "file_extension": ".py",
   "mimetype": "text/x-python",
   "name": "python",
   "nbconvert_exporter": "python",
   "pygments_lexer": "ipython3",
   "version": "3.10.2"
  }
 },
 "nbformat": 4,
 "nbformat_minor": 5
}
